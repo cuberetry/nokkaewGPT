{
 "cells": [
  {
   "cell_type": "code",
   "execution_count": 1,
   "id": "90d01e6e",
   "metadata": {},
   "outputs": [],
   "source": [
    "from pythainlp.util import normalize, isthai\n",
    "from pythainlp.ulmfit import (process_thai, ungroup_emoji, remove_space, rm_useless_spaces,\n",
    "                              rm_useless_newlines, rm_brackets, replace_wrep_post_nonum, replace_rep_nonum, replace_wrep_post_nonum)\n"
   ]
  },
  {
   "cell_type": "code",
   "execution_count": 2,
   "id": "db9f139f",
   "metadata": {},
   "outputs": [],
   "source": [
    "from pythainlp import word_vector\n",
    "model = word_vector.WordVector(model_name=\"thai2fit_wv\").get_model()\n",
    "words = model.index_to_key\n",
    "\n",
    "w_rank = {}\n",
    "for i,word in enumerate(words):\n",
    "    w_rank[word] = i\n",
    "\n",
    "WORDS = w_rank\n",
    "\n",
    "thai_letters = 'กขฃคฅฆงจฉชซฌญฎฏฐฑฒณดตถทธนบปผฝพฟภมยรฤฤๅลฦฦๅวศษสหฬอฮะัาำิีึืุูเแโใไ็่้๊๋์'\n",
    "\n",
    "def words(text): return re.findall(r'\\w+', text.lower())\n",
    "\n",
    "def P(word): \n",
    "    \"Probability of `word`.\"\n",
    "    # use inverse of rank as proxy\n",
    "    # returns 0 if the word isn't in the dictionary\n",
    "    return - WORDS.get(word, 0)\n",
    "\n",
    "def correction(word): \n",
    "    \"Most probable spelling correction for word.\"\n",
    "    if word == 'จุง':\n",
    "        return 'จัง'\n",
    "    return max(candidates(word), key=P)\n",
    "\n",
    "def candidates(word): \n",
    "    \"Generate possible spelling corrections for word.\"\n",
    "    return (known([word]) or known(edits1(word)) or known(edits2(word)) or [word])\n",
    "\n",
    "def known(words): \n",
    "    \"The subset of `words` that appear in the dictionary of WORDS.\"\n",
    "    return set(w for w in words if w in WORDS)\n",
    "\n",
    "def edits1(word):\n",
    "    \"All edits that are one edit away from `word`.\"\n",
    "    letters    = thai_letters\n",
    "    splits     = [(word[:i], word[i:])    for i in range(len(word) + 1)]\n",
    "    deletes    = [L + R[1:]               for L, R in splits if R]\n",
    "    transposes = [L + R[1] + R[0] + R[2:] for L, R in splits if len(R)>1]\n",
    "    replaces   = [L + c + R[1:]           for L, R in splits if R for c in letters]\n",
    "    inserts    = [L + c + R               for L, R in splits for c in letters]\n",
    "    return set(deletes + transposes + replaces + inserts)\n",
    "\n",
    "def edits2(word): \n",
    "    \"All edits that are two edits away from `word`.\"\n",
    "    return (e2 for e1 in edits1(word) for e2 in edits1(e1))\n",
    "\n",
    "# Test function\n",
    "# print(correction('นะค่ะเทอ'))\n",
    "# print(correction('เทอ'))\n",
    "# print(correction('จุง'))"
   ]
  },
  {
   "cell_type": "code",
   "execution_count": 3,
   "id": "3b2c11e0",
   "metadata": {},
   "outputs": [
    {
     "data": {
      "text/plain": [
       "['ลำบากลำบน',\n",
       " 'แต่งตัว',\n",
       " 'แต่ง',\n",
       " 'xxwrep',\n",
       " 'บ้าน',\n",
       " 'xxrep',\n",
       " 'อยู่',\n",
       " 'xxwrep',\n",
       " 'นาน',\n",
       " 'เก่า',\n",
       " 'เก้า',\n",
       " '😂',\n",
       " '🤣',\n",
       " '😃',\n",
       " '😄',\n",
       " '😅',\n",
       " 'PyThaiNLP',\n",
       " 'amp',\n",
       " ';',\n",
       " 'จุ',\n",
       " 'ง',\n",
       " 'เท',\n",
       " 'อ']"
      ]
     },
     "execution_count": 3,
     "metadata": {},
     "output_type": "execute_result"
    }
   ],
   "source": [
    "import pythainlp\n",
    "text = \"ลำบาากลำบน เเต่งตัว แต่งบ้านบ้านนนนน () อยู่นานนานนาน เกา่เกา้ 😂🤣😃😄😅 PyThaiNLP amp;  จุง เทอ  \"\n",
    "ptext = process_thai(text,\n",
    "                     pre_rules=[normalize,rm_useless_spaces, rm_useless_newlines,#pythainlp.util.normalize\n",
    "                                rm_brackets, replace_rep_nonum],\n",
    "                     post_rules=[replace_wrep_post_nonum,\n",
    "                                 replace_wrep_post_nonum, remove_space, ungroup_emoji]\n",
    "                     )\n",
    "ptext"
   ]
  },
  {
   "cell_type": "code",
   "execution_count": 4,
   "id": "0af1dce5",
   "metadata": {},
   "outputs": [
    {
     "data": {
      "text/plain": [
       "['ลำบากลำบน',\n",
       " 'แต่งตัว',\n",
       " 'แต่ง',\n",
       " 'บ้าน',\n",
       " 'อยู่',\n",
       " 'นาน',\n",
       " 'เก่า',\n",
       " 'เก้า',\n",
       " 'จุ',\n",
       " 'ง',\n",
       " 'เท',\n",
       " 'อ']"
      ]
     },
     "execution_count": 4,
     "metadata": {},
     "output_type": "execute_result"
    }
   ],
   "source": [
    "ptext = [word for word in ptext if isthai(word) and word not in ['xxrep', 'xxwrep']]\n",
    "ptext"
   ]
  },
  {
   "cell_type": "code",
   "execution_count": 5,
   "id": "6e5f485f",
   "metadata": {},
   "outputs": [
    {
     "data": {
      "text/plain": [
       "['ลำบากลำบน',\n",
       " 'แต่งตัว',\n",
       " 'แต่ง',\n",
       " 'บ้าน',\n",
       " 'อยู่',\n",
       " 'นาน',\n",
       " 'เก่า',\n",
       " 'เก้า',\n",
       " 'จุง',\n",
       " 'เทอ']"
      ]
     },
     "execution_count": 5,
     "metadata": {},
     "output_type": "execute_result"
    }
   ],
   "source": [
    "def combine(my_list):\n",
    "    out = []\n",
    "    for i in range(len(my_list)):\n",
    "        if len(my_list[i]) == 1 and i > 0:\n",
    "            out[-1] += my_list[i]\n",
    "        else:\n",
    "            out.append(my_list[i])\n",
    "    return out\n",
    "\n",
    "ptext = combine(ptext)\n",
    "ptext"
   ]
  },
  {
   "cell_type": "code",
   "execution_count": 6,
   "id": "518618b8",
   "metadata": {},
   "outputs": [
    {
     "data": {
      "text/plain": [
       "['ลำบากลำบน',\n",
       " 'แต่งตัว',\n",
       " 'แต่ง',\n",
       " 'บ้าน',\n",
       " 'อยู่',\n",
       " 'นาน',\n",
       " 'เก่า',\n",
       " 'เก้า',\n",
       " 'จัง',\n",
       " 'เธอ']"
      ]
     },
     "execution_count": 6,
     "metadata": {},
     "output_type": "execute_result"
    }
   ],
   "source": [
    "ptext = [correction(i) for i in ptext]\n",
    "ptext"
   ]
  }
 ],
 "metadata": {
  "kernelspec": {
   "display_name": "Python 3.9 (pytorch)",
   "language": "python",
   "name": "pytorch"
  },
  "language_info": {
   "codemirror_mode": {
    "name": "ipython",
    "version": 3
   },
   "file_extension": ".py",
   "mimetype": "text/x-python",
   "name": "python",
   "nbconvert_exporter": "python",
   "pygments_lexer": "ipython3",
   "version": "3.9.15"
  }
 },
 "nbformat": 4,
 "nbformat_minor": 5
}
